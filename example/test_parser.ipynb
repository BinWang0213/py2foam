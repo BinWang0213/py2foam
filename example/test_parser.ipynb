{
 "cells": [
  {
   "cell_type": "code",
   "execution_count": 1,
   "metadata": {},
   "outputs": [],
   "source": [
    "%reload_ext autoreload\n",
    "%autoreload 2\n",
    "%matplotlib inline\n",
    "\n",
    "import numpy as np\n",
    "import os, sys\n",
    "sys.path.append(\"..\")\n",
    "import py2foam as pf"
   ]
  },
  {
   "cell_type": "code",
   "execution_count": 2,
   "metadata": {
    "tags": []
   },
   "outputs": [],
   "source": [
    "field=pf.foamField(\"U\")"
   ]
  },
  {
   "cell_type": "code",
   "execution_count": 3,
   "metadata": {},
   "outputs": [
    {
     "output_type": "execute_result",
     "data": {
      "text/plain": [
       "OrderedDict([('FoamFile',\n",
       "              OrderedDict([('version', 2.0),\n",
       "                           ('format', 'ascii'),\n",
       "                           ('class', 'volVectorField'),\n",
       "                           ('location', '0'),\n",
       "                           ('object', 'U')])),\n",
       "             ('dimensions', [0.0, 1.0, -1.0, 0.0, 0.0, 0.0, 0.0]),\n",
       "             ('internalField', ['uniform', [0.0, 0.0, 0.0]]),\n",
       "             ('boundaryField',\n",
       "              OrderedDict([('inlet',\n",
       "                            OrderedDict([('type', 'surfaceNormalFixedValue'),\n",
       "                                         ('refValue',\n",
       "                                          ['uniform', -50000.0])])),\n",
       "                           ('outlet', OrderedDict([('type', 'zeroGradient')])),\n",
       "                           ('walls',\n",
       "                            OrderedDict([('type', 'fixedValue'),\n",
       "                                         ('value',\n",
       "                                          ['uniform', [0.0, 0.0, 0.0]])])),\n",
       "                           ('symmetric', OrderedDict([('type', 'empty')]))]))])"
      ]
     },
     "metadata": {},
     "execution_count": 3
    }
   ],
   "source": [
    "field.foamData"
   ]
  },
  {
   "cell_type": "code",
   "execution_count": 4,
   "metadata": {},
   "outputs": [
    {
     "output_type": "execute_result",
     "data": {
      "text/plain": [
       "'surfaceNormalFixedValue'"
      ]
     },
     "metadata": {},
     "execution_count": 4
    }
   ],
   "source": [
    "field['boundaryField']['inlet']['type']"
   ]
  },
  {
   "cell_type": "code",
   "execution_count": 5,
   "metadata": {},
   "outputs": [
    {
     "output_type": "execute_result",
     "data": {
      "text/plain": [
       "['uniform', [0.0, 0.0, 0.0]]"
      ]
     },
     "metadata": {},
     "execution_count": 5
    }
   ],
   "source": [
    "field['internalField']"
   ]
  },
  {
   "cell_type": "code",
   "execution_count": 7,
   "metadata": {},
   "outputs": [],
   "source": [
    "field.write(\"U_py2foam\")"
   ]
  }
 ],
 "metadata": {
  "kernelspec": {
   "display_name": "Python 3",
   "language": "python",
   "name": "python3"
  },
  "language_info": {
   "codemirror_mode": {
    "name": "ipython",
    "version": 3
   },
   "file_extension": ".py",
   "mimetype": "text/x-python",
   "name": "python",
   "nbconvert_exporter": "python",
   "pygments_lexer": "ipython3",
   "version": "3.8.5-final"
  }
 },
 "nbformat": 4,
 "nbformat_minor": 4
}